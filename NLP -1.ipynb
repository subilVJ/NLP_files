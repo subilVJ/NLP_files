{
 "cells": [
  {
   "cell_type": "code",
   "execution_count": 2,
   "id": "032ce089",
   "metadata": {},
   "outputs": [
    {
     "name": "stdout",
     "output_type": "stream",
     "text": [
      "Defaulting to user installation because normal site-packages is not writeable\n",
      "Requirement already satisfied: nltk in c:\\programdata\\anaconda3\\lib\\site-packages (3.7)\n",
      "Requirement already satisfied: joblib in c:\\users\\aaron\\appdata\\roaming\\python\\python39\\site-packages (from nltk) (1.3.2)\n",
      "Requirement already satisfied: click in c:\\programdata\\anaconda3\\lib\\site-packages (from nltk) (8.0.4)\n",
      "Requirement already satisfied: regex>=2021.8.3 in c:\\programdata\\anaconda3\\lib\\site-packages (from nltk) (2022.7.9)\n",
      "Requirement already satisfied: tqdm in c:\\programdata\\anaconda3\\lib\\site-packages (from nltk) (4.64.1)\n",
      "Requirement already satisfied: colorama in c:\\programdata\\anaconda3\\lib\\site-packages (from click->nltk) (0.4.5)\n",
      "Note: you may need to restart the kernel to use updated packages.\n"
     ]
    }
   ],
   "source": [
    "pip install nltk"
   ]
  },
  {
   "cell_type": "code",
   "execution_count": 3,
   "id": "6acf1f2c",
   "metadata": {},
   "outputs": [],
   "source": [
    "paragraph=\"\"\"\n",
    "\n",
    "Narendra Damodardas Modi (Gujarati: [ˈnəɾendɾə dɑmodəɾˈdɑs ˈmodiː] ⓘ; born 17 September 1950)[b] is an Indian politician who has served as the 14th prime minister of India since May 2014. Modi was the Chief Minister of Gujarat from 2001 to 2014 and is the Member of Parliament (MP) for Varanasi. He is a member of the Bharatiya Janata Party (BJP) and of the Rashtriya Swayamsevak Sangh (RSS), a right wing Hindu nationalist paramilitary volunteer organisation. He is the longest-serving prime minister from outside the Indian National Congress.\n",
    "\n",
    "Modi was born and raised in Vadnagar in northeastern Gujarat, where he completed his secondary education. He was introduced to the RSS at the age of eight. His account of helping his father sell tea at the Vadnagar railway station has not been reliably corroborated. At age 18, he was married to Jashodaben Modi, whom he abandoned soon after, only publicly acknowledging her four decades later when legally required to do so. Modi became a full-time worker for the RSS in Gujarat in 1971. The RSS assigned him to the BJP in 1985 and he held several positions within the party hierarchy until 2001, rising to the rank of general secretary.[c]\n",
    "\"\"\""
   ]
  },
  {
   "cell_type": "code",
   "execution_count": 4,
   "id": "73797832",
   "metadata": {},
   "outputs": [
    {
     "data": {
      "text/plain": [
       "'\\n\\nNarendra Damodardas Modi (Gujarati: [ˈnəɾendɾə dɑmodəɾˈdɑs ˈmodiː] ⓘ; born 17 September 1950)[b] is an Indian politician who has served as the 14th prime minister of India since May 2014. Modi was the Chief Minister of Gujarat from 2001 to 2014 and is the Member of Parliament (MP) for Varanasi. He is a member of the Bharatiya Janata Party (BJP) and of the Rashtriya Swayamsevak Sangh (RSS), a right wing Hindu nationalist paramilitary volunteer organisation. He is the longest-serving prime minister from outside the Indian National Congress.\\n\\nModi was born and raised in Vadnagar in northeastern Gujarat, where he completed his secondary education. He was introduced to the RSS at the age of eight. His account of helping his father sell tea at the Vadnagar railway station has not been reliably corroborated. At age 18, he was married to Jashodaben Modi, whom he abandoned soon after, only publicly acknowledging her four decades later when legally required to do so. Modi became a full-time worker for the RSS in Gujarat in 1971. The RSS assigned him to the BJP in 1985 and he held several positions within the party hierarchy until 2001, rising to the rank of general secretary.[c]\\n'"
      ]
     },
     "execution_count": 4,
     "metadata": {},
     "output_type": "execute_result"
    }
   ],
   "source": [
    "paragraph"
   ]
  },
  {
   "cell_type": "code",
   "execution_count": 7,
   "id": "554adf4b",
   "metadata": {},
   "outputs": [],
   "source": [
    "import nltk\n",
    "from nltk.stem import PorterStemmer\n",
    "from nltk.corpus import stopwords"
   ]
  },
  {
   "cell_type": "code",
   "execution_count": 10,
   "id": "0bccef66",
   "metadata": {},
   "outputs": [
    {
     "name": "stderr",
     "output_type": "stream",
     "text": [
      "[nltk_data] Downloading package punkt to\n",
      "[nltk_data]     C:\\Users\\Aaron\\AppData\\Roaming\\nltk_data...\n",
      "[nltk_data]   Package punkt is already up-to-date!\n"
     ]
    }
   ],
   "source": [
    "## Tokenization-- Convert paragraph into words \n",
    "nltk.download('punkt')\n",
    "sentence=nltk.sent_tokenize(paragraph)"
   ]
  },
  {
   "cell_type": "code",
   "execution_count": 16,
   "id": "a531374f",
   "metadata": {},
   "outputs": [
    {
     "data": {
      "text/plain": [
       "['\\n\\nNarendra Damodardas Modi (Gujarati: [ˈnəɾendɾə dɑmodəɾˈdɑs ˈmodiː] ⓘ; born 17 September 1950)[b] is an Indian politician who has served as the 14th prime minister of India since May 2014.',\n",
       " 'Modi was the Chief Minister of Gujarat from 2001 to 2014 and is the Member of Parliament (MP) for Varanasi.',\n",
       " 'He is a member of the Bharatiya Janata Party (BJP) and of the Rashtriya Swayamsevak Sangh (RSS), a right wing Hindu nationalist paramilitary volunteer organisation.',\n",
       " 'He is the longest-serving prime minister from outside the Indian National Congress.',\n",
       " 'Modi was born and raised in Vadnagar in northeastern Gujarat, where he completed his secondary education.',\n",
       " 'He was introduced to the RSS at the age of eight.',\n",
       " 'His account of helping his father sell tea at the Vadnagar railway station has not been reliably corroborated.',\n",
       " 'At age 18, he was married to Jashodaben Modi, whom he abandoned soon after, only publicly acknowledging her four decades later when legally required to do so.',\n",
       " 'Modi became a full-time worker for the RSS in Gujarat in 1971.',\n",
       " 'The RSS assigned him to the BJP in 1985 and he held several positions within the party hierarchy until 2001, rising to the rank of general secretary.',\n",
       " '[c]']"
      ]
     },
     "execution_count": 16,
     "metadata": {},
     "output_type": "execute_result"
    }
   ],
   "source": [
    "sentence"
   ]
  },
  {
   "cell_type": "code",
   "execution_count": 13,
   "id": "e03034b4",
   "metadata": {},
   "outputs": [
    {
     "data": {
      "text/plain": [
       "list"
      ]
     },
     "execution_count": 13,
     "metadata": {},
     "output_type": "execute_result"
    }
   ],
   "source": [
    "type(sentence)"
   ]
  },
  {
   "cell_type": "code",
   "execution_count": 14,
   "id": "9a4337ef",
   "metadata": {},
   "outputs": [
    {
     "name": "stdout",
     "output_type": "stream",
     "text": [
      "['\\n\\nNarendra Damodardas Modi (Gujarati: [ˈnəɾendɾə dɑmodəɾˈdɑs ˈmodiː] ⓘ; born 17 September 1950)[b] is an Indian politician who has served as the 14th prime minister of India since May 2014.', 'Modi was the Chief Minister of Gujarat from 2001 to 2014 and is the Member of Parliament (MP) for Varanasi.', 'He is a member of the Bharatiya Janata Party (BJP) and of the Rashtriya Swayamsevak Sangh (RSS), a right wing Hindu nationalist paramilitary volunteer organisation.', 'He is the longest-serving prime minister from outside the Indian National Congress.', 'Modi was born and raised in Vadnagar in northeastern Gujarat, where he completed his secondary education.', 'He was introduced to the RSS at the age of eight.', 'His account of helping his father sell tea at the Vadnagar railway station has not been reliably corroborated.', 'At age 18, he was married to Jashodaben Modi, whom he abandoned soon after, only publicly acknowledging her four decades later when legally required to do so.', 'Modi became a full-time worker for the RSS in Gujarat in 1971.', 'The RSS assigned him to the BJP in 1985 and he held several positions within the party hierarchy until 2001, rising to the rank of general secretary.', '[c]']\n"
     ]
    }
   ],
   "source": [
    "print(sentence)"
   ]
  },
  {
   "cell_type": "code",
   "execution_count": 17,
   "id": "18fd2f04",
   "metadata": {},
   "outputs": [],
   "source": [
    "stemmer=PorterStemmer()"
   ]
  },
  {
   "cell_type": "code",
   "execution_count": 18,
   "id": "5d2efe24",
   "metadata": {},
   "outputs": [
    {
     "data": {
      "text/plain": [
       "'go'"
      ]
     },
     "execution_count": 18,
     "metadata": {},
     "output_type": "execute_result"
    }
   ],
   "source": [
    "stemmer.stem('going')"
   ]
  },
  {
   "cell_type": "code",
   "execution_count": 19,
   "id": "09c4de4f",
   "metadata": {},
   "outputs": [
    {
     "data": {
      "text/plain": [
       "'think'"
      ]
     },
     "execution_count": 19,
     "metadata": {},
     "output_type": "execute_result"
    }
   ],
   "source": [
    "stemmer.stem('Thinking')"
   ]
  },
  {
   "cell_type": "code",
   "execution_count": 23,
   "id": "945a7b45",
   "metadata": {},
   "outputs": [
    {
     "data": {
      "text/plain": [
       "'histori'"
      ]
     },
     "execution_count": 23,
     "metadata": {},
     "output_type": "execute_result"
    }
   ],
   "source": [
    "stemmer.stem('History')"
   ]
  },
  {
   "cell_type": "code",
   "execution_count": 20,
   "id": "0ed8d772",
   "metadata": {},
   "outputs": [],
   "source": [
    "## Lematization "
   ]
  },
  {
   "cell_type": "code",
   "execution_count": 30,
   "id": "bc11d38f",
   "metadata": {},
   "outputs": [
    {
     "name": "stderr",
     "output_type": "stream",
     "text": [
      "[nltk_data] Downloading package wordnet to\n",
      "[nltk_data]     C:\\Users\\Aaron\\AppData\\Roaming\\nltk_data...\n"
     ]
    },
    {
     "data": {
      "text/plain": [
       "True"
      ]
     },
     "execution_count": 30,
     "metadata": {},
     "output_type": "execute_result"
    }
   ],
   "source": [
    "from nltk.stem import WordNetLemmatizer\n",
    "import nltk\n",
    "nltk.download('wordnet')"
   ]
  },
  {
   "cell_type": "code",
   "execution_count": 31,
   "id": "7acfc317",
   "metadata": {},
   "outputs": [],
   "source": [
    "lemmatizer=WordNetLemmatizer()"
   ]
  },
  {
   "cell_type": "code",
   "execution_count": 34,
   "id": "be93d35b",
   "metadata": {},
   "outputs": [
    {
     "data": {
      "text/plain": [
       "'history'"
      ]
     },
     "execution_count": 34,
     "metadata": {},
     "output_type": "execute_result"
    }
   ],
   "source": [
    "lemmatizer.lemmatize('history')"
   ]
  },
  {
   "cell_type": "code",
   "execution_count": 33,
   "id": "7f7c12f4",
   "metadata": {},
   "outputs": [
    {
     "name": "stderr",
     "output_type": "stream",
     "text": [
      "[nltk_data] Downloading package omw-1.4 to\n",
      "[nltk_data]     C:\\Users\\Aaron\\AppData\\Roaming\\nltk_data...\n"
     ]
    },
    {
     "data": {
      "text/plain": [
       "True"
      ]
     },
     "execution_count": 33,
     "metadata": {},
     "output_type": "execute_result"
    }
   ],
   "source": [
    "import nltk\n",
    "nltk.download('omw-1.4')"
   ]
  },
  {
   "cell_type": "markdown",
   "id": "f7cbec51",
   "metadata": {},
   "source": [
    "## re library is used to work with regular expression\n",
    "Text Cleaning: Removing unwanted characters, symbols, or patterns from text.   "
   ]
  },
  {
   "cell_type": "code",
   "execution_count": 36,
   "id": "abf45c50",
   "metadata": {},
   "outputs": [],
   "source": [
    "import re"
   ]
  },
  {
   "cell_type": "code",
   "execution_count": 38,
   "id": "af4fdb9a",
   "metadata": {},
   "outputs": [],
   "source": [
    "corpus=[]\n",
    "for i in range(len(sentence)):\n",
    "    review=re.sub('[^a-zA-Z]',' ',sentence[i])\n",
    "    review=review.lower()\n",
    "    corpus.append(review)\n",
    "    "
   ]
  },
  {
   "cell_type": "code",
   "execution_count": 40,
   "id": "b773f3b7",
   "metadata": {},
   "outputs": [],
   "source": [
    "## regulad expression is used to replace every charachter except a-z A-z"
   ]
  },
  {
   "cell_type": "code",
   "execution_count": 39,
   "id": "55d56ea1",
   "metadata": {},
   "outputs": [
    {
     "data": {
      "text/plain": [
       "['  narendra damodardas modi  gujarati    n  end   d mod   d s  modi      born    september       b  is an indian politician who has served as the   th prime minister of india since may      ',\n",
       " 'modi was the chief minister of gujarat from      to      and is the member of parliament  mp  for varanasi ',\n",
       " 'he is a member of the bharatiya janata party  bjp  and of the rashtriya swayamsevak sangh  rss   a right wing hindu nationalist paramilitary volunteer organisation ',\n",
       " 'he is the longest serving prime minister from outside the indian national congress ',\n",
       " 'modi was born and raised in vadnagar in northeastern gujarat  where he completed his secondary education ',\n",
       " 'he was introduced to the rss at the age of eight ',\n",
       " 'his account of helping his father sell tea at the vadnagar railway station has not been reliably corroborated ',\n",
       " 'at age     he was married to jashodaben modi  whom he abandoned soon after  only publicly acknowledging her four decades later when legally required to do so ',\n",
       " 'modi became a full time worker for the rss in gujarat in      ',\n",
       " 'the rss assigned him to the bjp in      and he held several positions within the party hierarchy until       rising to the rank of general secretary ',\n",
       " ' c ']"
      ]
     },
     "execution_count": 39,
     "metadata": {},
     "output_type": "execute_result"
    }
   ],
   "source": [
    "corpus"
   ]
  },
  {
   "cell_type": "code",
   "execution_count": 41,
   "id": "10e10f9f",
   "metadata": {},
   "outputs": [],
   "source": [
    "## First Lets apply stemming"
   ]
  },
  {
   "cell_type": "code",
   "execution_count": 44,
   "id": "2ddc6ebb",
   "metadata": {},
   "outputs": [
    {
     "name": "stdout",
     "output_type": "stream",
     "text": [
      "narendra\n",
      "damodarda\n",
      "modi\n",
      "gujarati\n",
      "n\n",
      "end\n",
      "mod\n",
      "modi\n",
      "born\n",
      "septemb\n",
      "b\n",
      "indian\n",
      "politician\n",
      "serv\n",
      "th\n",
      "prime\n",
      "minist\n",
      "india\n",
      "sinc\n",
      "may\n",
      "modi\n",
      "chief\n",
      "minist\n",
      "gujarat\n",
      "member\n",
      "parliament\n",
      "mp\n",
      "varanasi\n",
      "member\n",
      "bharatiya\n",
      "janata\n",
      "parti\n",
      "bjp\n",
      "rashtriya\n",
      "swayamsevak\n",
      "sangh\n",
      "rss\n",
      "right\n",
      "wing\n",
      "hindu\n",
      "nationalist\n",
      "paramilitari\n",
      "volunt\n",
      "organis\n",
      "longest\n",
      "serv\n",
      "prime\n",
      "minist\n",
      "outsid\n",
      "indian\n",
      "nation\n",
      "congress\n",
      "modi\n",
      "born\n",
      "rais\n",
      "vadnagar\n",
      "northeastern\n",
      "gujarat\n",
      "complet\n",
      "secondari\n",
      "educ\n",
      "introduc\n",
      "rss\n",
      "age\n",
      "eight\n",
      "account\n",
      "help\n",
      "father\n",
      "sell\n",
      "tea\n",
      "vadnagar\n",
      "railway\n",
      "station\n",
      "reliabl\n",
      "corrobor\n",
      "age\n",
      "marri\n",
      "jashodaben\n",
      "modi\n",
      "abandon\n",
      "soon\n",
      "publicli\n",
      "acknowledg\n",
      "four\n",
      "decad\n",
      "later\n",
      "legal\n",
      "requir\n",
      "modi\n",
      "becam\n",
      "full\n",
      "time\n",
      "worker\n",
      "rss\n",
      "gujarat\n",
      "rss\n",
      "assign\n",
      "bjp\n",
      "held\n",
      "sever\n",
      "posit\n",
      "within\n",
      "parti\n",
      "hierarchi\n",
      "rise\n",
      "rank\n",
      "gener\n",
      "secretari\n",
      "c\n"
     ]
    }
   ],
   "source": [
    "for i in corpus:\n",
    "    words=nltk.word_tokenize(i)\n",
    "    for word in words:\n",
    "        if word not in set(stopwords.words('english')):\n",
    "            print(stemmer.stem(word))\n",
    "    \n"
   ]
  },
  {
   "cell_type": "code",
   "execution_count": 43,
   "id": "29048323",
   "metadata": {},
   "outputs": [
    {
     "name": "stderr",
     "output_type": "stream",
     "text": [
      "[nltk_data] Downloading package stopwords to\n",
      "[nltk_data]     C:\\Users\\Aaron\\AppData\\Roaming\\nltk_data...\n",
      "[nltk_data]   Unzipping corpora\\stopwords.zip.\n"
     ]
    },
    {
     "data": {
      "text/plain": [
       "True"
      ]
     },
     "execution_count": 43,
     "metadata": {},
     "output_type": "execute_result"
    }
   ],
   "source": [
    "import nltk\n",
    "nltk.download('stopwords')"
   ]
  },
  {
   "cell_type": "markdown",
   "id": "ee515006",
   "metadata": {},
   "source": [
    "## The CountVectorizer from Scikit-learn is a useful tool for converting a collection of text documents into a matrix of token counts. It's a fundamental step in text processing for various NLP tasks like machine learning, topic modeling, and more."
   ]
  },
  {
   "cell_type": "code",
   "execution_count": 45,
   "id": "a60b031e",
   "metadata": {},
   "outputs": [],
   "source": [
    "from sklearn.feature_extraction.text import CountVectorizer\n",
    "cv=CountVectorizer()"
   ]
  },
  {
   "cell_type": "code",
   "execution_count": 46,
   "id": "8b99dfdc",
   "metadata": {},
   "outputs": [],
   "source": [
    "X=cv.fit_transform(corpus)"
   ]
  },
  {
   "cell_type": "code",
   "execution_count": 49,
   "id": "92d26932",
   "metadata": {},
   "outputs": [
    {
     "data": {
      "text/plain": [
       "{'narendra': 59,\n",
       " 'damodardas': 19,\n",
       " 'modi': 57,\n",
       " 'gujarati': 32,\n",
       " 'end': 24,\n",
       " 'mod': 56,\n",
       " 'born': 14,\n",
       " 'september': 88,\n",
       " 'is': 46,\n",
       " 'an': 5,\n",
       " 'indian': 44,\n",
       " 'politician': 71,\n",
       " 'who': 109,\n",
       " 'has': 33,\n",
       " 'served': 89,\n",
       " 'as': 7,\n",
       " 'the': 99,\n",
       " 'th': 98,\n",
       " 'prime': 73,\n",
       " 'minister': 55,\n",
       " 'of': 64,\n",
       " 'india': 43,\n",
       " 'since': 92,\n",
       " 'may': 53,\n",
       " 'was': 106,\n",
       " 'chief': 15,\n",
       " 'gujarat': 31,\n",
       " 'from': 28,\n",
       " 'to': 101,\n",
       " 'and': 6,\n",
       " 'member': 54,\n",
       " 'parliament': 69,\n",
       " 'mp': 58,\n",
       " 'for': 26,\n",
       " 'varanasi': 104,\n",
       " 'he': 34,\n",
       " 'bharatiya': 12,\n",
       " 'janata': 47,\n",
       " 'party': 70,\n",
       " 'bjp': 13,\n",
       " 'rashtriya': 78,\n",
       " 'swayamsevak': 96,\n",
       " 'sangh': 84,\n",
       " 'rss': 83,\n",
       " 'right': 81,\n",
       " 'wing': 111,\n",
       " 'hindu': 40,\n",
       " 'nationalist': 61,\n",
       " 'paramilitary': 68,\n",
       " 'volunteer': 105,\n",
       " 'organisation': 66,\n",
       " 'longest': 51,\n",
       " 'serving': 90,\n",
       " 'outside': 67,\n",
       " 'national': 60,\n",
       " 'congress': 17,\n",
       " 'raised': 76,\n",
       " 'in': 42,\n",
       " 'vadnagar': 103,\n",
       " 'northeastern': 62,\n",
       " 'where': 108,\n",
       " 'completed': 16,\n",
       " 'his': 41,\n",
       " 'secondary': 85,\n",
       " 'education': 22,\n",
       " 'introduced': 45,\n",
       " 'at': 9,\n",
       " 'age': 4,\n",
       " 'eight': 23,\n",
       " 'account': 1,\n",
       " 'helping': 36,\n",
       " 'father': 25,\n",
       " 'sell': 87,\n",
       " 'tea': 97,\n",
       " 'railway': 75,\n",
       " 'station': 95,\n",
       " 'not': 63,\n",
       " 'been': 11,\n",
       " 'reliably': 79,\n",
       " 'corroborated': 18,\n",
       " 'married': 52,\n",
       " 'jashodaben': 48,\n",
       " 'whom': 110,\n",
       " 'abandoned': 0,\n",
       " 'soon': 94,\n",
       " 'after': 3,\n",
       " 'only': 65,\n",
       " 'publicly': 74,\n",
       " 'acknowledging': 2,\n",
       " 'her': 37,\n",
       " 'four': 27,\n",
       " 'decades': 20,\n",
       " 'later': 49,\n",
       " 'when': 107,\n",
       " 'legally': 50,\n",
       " 'required': 80,\n",
       " 'do': 21,\n",
       " 'so': 93,\n",
       " 'became': 10,\n",
       " 'full': 29,\n",
       " 'time': 100,\n",
       " 'worker': 113,\n",
       " 'assigned': 8,\n",
       " 'him': 39,\n",
       " 'held': 35,\n",
       " 'several': 91,\n",
       " 'positions': 72,\n",
       " 'within': 112,\n",
       " 'hierarchy': 38,\n",
       " 'until': 102,\n",
       " 'rising': 82,\n",
       " 'rank': 77,\n",
       " 'general': 30,\n",
       " 'secretary': 86}"
      ]
     },
     "execution_count": 49,
     "metadata": {},
     "output_type": "execute_result"
    }
   ],
   "source": [
    "cv.vocabulary_"
   ]
  },
  {
   "cell_type": "code",
   "execution_count": 51,
   "id": "c70f664e",
   "metadata": {},
   "outputs": [
    {
     "data": {
      "text/plain": [
       "'  narendra damodardas modi  gujarati    n  end   d mod   d s  modi      born    september       b  is an indian politician who has served as the   th prime minister of india since may      '"
      ]
     },
     "execution_count": 51,
     "metadata": {},
     "output_type": "execute_result"
    }
   ],
   "source": [
    "corpus[0]"
   ]
  },
  {
   "cell_type": "code",
   "execution_count": 56,
   "id": "21f4080b",
   "metadata": {},
   "outputs": [
    {
     "data": {
      "text/plain": [
       "array([[0, 0, 0, 0, 0, 1, 0, 1, 0, 0, 0, 0, 0, 0, 1, 0, 0, 0, 0, 1, 0, 0,\n",
       "        0, 0, 1, 0, 0, 0, 0, 0, 0, 0, 1, 1, 0, 0, 0, 0, 0, 0, 0, 0, 0, 1,\n",
       "        1, 0, 1, 0, 0, 0, 0, 0, 0, 1, 0, 1, 1, 2, 0, 1, 0, 0, 0, 0, 1, 0,\n",
       "        0, 0, 0, 0, 0, 1, 0, 1, 0, 0, 0, 0, 0, 0, 0, 0, 0, 0, 0, 0, 0, 0,\n",
       "        1, 1, 0, 0, 1, 0, 0, 0, 0, 0, 1, 1, 0, 0, 0, 0, 0, 0, 0, 0, 0, 1,\n",
       "        0, 0, 0, 0]], dtype=int64)"
      ]
     },
     "execution_count": 56,
     "metadata": {},
     "output_type": "execute_result"
    }
   ],
   "source": [
    "X[0].toarray()"
   ]
  },
  {
   "cell_type": "code",
   "execution_count": 58,
   "id": "3f42b0b5",
   "metadata": {},
   "outputs": [],
   "source": [
    "## Apply Stopwords  in Lemmatization\n",
    "import re\n",
    "corpus=[]\n",
    "\n",
    "for i in range(len(sentence)):\n",
    "    review=re.sub('[^a-zA-Z]',' ',sentence[i])\n",
    "    review=review.lower()\n",
    "    review=review.split()\n",
    "    review=[lemmatizer.lemmatize(word) for word in review if not word in set(stopwords.words('english'))]\n",
    "    review=\" \".join(review)\n",
    "    corpus.append(review)\n",
    "    "
   ]
  },
  {
   "cell_type": "code",
   "execution_count": 59,
   "id": "f5eeac89",
   "metadata": {},
   "outputs": [],
   "source": [
    "X=cv.fit_transform(corpus)"
   ]
  },
  {
   "cell_type": "code",
   "execution_count": 60,
   "id": "f7d2c3c6",
   "metadata": {},
   "outputs": [
    {
     "data": {
      "text/plain": [
       "{'narendra': 43,\n",
       " 'damodardas': 13,\n",
       " 'modi': 41,\n",
       " 'gujarati': 23,\n",
       " 'end': 17,\n",
       " 'mod': 40,\n",
       " 'born': 8,\n",
       " 'september': 68,\n",
       " 'indian': 29,\n",
       " 'politician': 52,\n",
       " 'served': 69,\n",
       " 'th': 77,\n",
       " 'prime': 54,\n",
       " 'minister': 39,\n",
       " 'india': 28,\n",
       " 'since': 72,\n",
       " 'may': 37,\n",
       " 'chief': 9,\n",
       " 'gujarat': 22,\n",
       " 'member': 38,\n",
       " 'parliament': 50,\n",
       " 'mp': 42,\n",
       " 'varanasi': 80,\n",
       " 'bharatiya': 6,\n",
       " 'janata': 31,\n",
       " 'party': 51,\n",
       " 'bjp': 7,\n",
       " 'rashtriya': 59,\n",
       " 'swayamsevak': 75,\n",
       " 'sangh': 64,\n",
       " 'right': 62,\n",
       " 'wing': 82,\n",
       " 'hindu': 27,\n",
       " 'nationalist': 45,\n",
       " 'paramilitary': 49,\n",
       " 'volunteer': 81,\n",
       " 'organisation': 47,\n",
       " 'longest': 35,\n",
       " 'serving': 70,\n",
       " 'outside': 48,\n",
       " 'national': 44,\n",
       " 'congress': 11,\n",
       " 'raised': 57,\n",
       " 'vadnagar': 79,\n",
       " 'northeastern': 46,\n",
       " 'completed': 10,\n",
       " 'secondary': 65,\n",
       " 'education': 15,\n",
       " 'introduced': 30,\n",
       " 'age': 3,\n",
       " 'eight': 16,\n",
       " 'account': 1,\n",
       " 'helping': 25,\n",
       " 'father': 18,\n",
       " 'sell': 67,\n",
       " 'tea': 76,\n",
       " 'railway': 56,\n",
       " 'station': 74,\n",
       " 'reliably': 60,\n",
       " 'corroborated': 12,\n",
       " 'married': 36,\n",
       " 'jashodaben': 32,\n",
       " 'abandoned': 0,\n",
       " 'soon': 73,\n",
       " 'publicly': 55,\n",
       " 'acknowledging': 2,\n",
       " 'four': 19,\n",
       " 'decade': 14,\n",
       " 'later': 33,\n",
       " 'legally': 34,\n",
       " 'required': 61,\n",
       " 'became': 5,\n",
       " 'full': 20,\n",
       " 'time': 78,\n",
       " 'worker': 84,\n",
       " 'assigned': 4,\n",
       " 'held': 24,\n",
       " 'several': 71,\n",
       " 'position': 53,\n",
       " 'within': 83,\n",
       " 'hierarchy': 26,\n",
       " 'rising': 63,\n",
       " 'rank': 58,\n",
       " 'general': 21,\n",
       " 'secretary': 66}"
      ]
     },
     "execution_count": 60,
     "metadata": {},
     "output_type": "execute_result"
    }
   ],
   "source": [
    "cv.vocabulary_"
   ]
  },
  {
   "cell_type": "code",
   "execution_count": 61,
   "id": "b0824b53",
   "metadata": {},
   "outputs": [
    {
     "data": {
      "text/plain": [
       "'narendra damodardas modi gujarati n end mod modi born september b indian politician served th prime minister india since may'"
      ]
     },
     "execution_count": 61,
     "metadata": {},
     "output_type": "execute_result"
    }
   ],
   "source": [
    "corpus[0]"
   ]
  },
  {
   "cell_type": "code",
   "execution_count": 62,
   "id": "fe41c517",
   "metadata": {},
   "outputs": [
    {
     "data": {
      "text/plain": [
       "array([[0, 0, 0, 0, 0, 0, 0, 0, 1, 0, 0, 0, 0, 1, 0, 0, 0, 1, 0, 0, 0, 0,\n",
       "        0, 1, 0, 0, 0, 0, 1, 1, 0, 0, 0, 0, 0, 0, 0, 1, 0, 1, 1, 2, 0, 1,\n",
       "        0, 0, 0, 0, 0, 0, 0, 0, 1, 0, 1, 0, 0, 0, 0, 0, 0, 0, 0, 0, 0, 0,\n",
       "        0, 0, 1, 1, 0, 0, 1, 0, 0, 0, 0, 1, 0, 0, 0, 0, 0, 0, 0]],\n",
       "      dtype=int64)"
      ]
     },
     "execution_count": 62,
     "metadata": {},
     "output_type": "execute_result"
    }
   ],
   "source": [
    "X[0].toarray()"
   ]
  },
  {
   "cell_type": "code",
   "execution_count": null,
   "id": "58fc0cc0",
   "metadata": {},
   "outputs": [],
   "source": []
  }
 ],
 "metadata": {
  "kernelspec": {
   "display_name": "Python 3 (ipykernel)",
   "language": "python",
   "name": "python3"
  },
  "language_info": {
   "codemirror_mode": {
    "name": "ipython",
    "version": 3
   },
   "file_extension": ".py",
   "mimetype": "text/x-python",
   "name": "python",
   "nbconvert_exporter": "python",
   "pygments_lexer": "ipython3",
   "version": "3.9.13"
  }
 },
 "nbformat": 4,
 "nbformat_minor": 5
}
